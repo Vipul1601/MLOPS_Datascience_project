{
 "cells": [
  {
   "cell_type": "code",
   "id": "initial_id",
   "metadata": {
    "collapsed": true,
    "ExecuteTime": {
     "end_time": "2025-01-21T17:23:34.553984Z",
     "start_time": "2025-01-21T17:23:34.549527Z"
    }
   },
   "source": "import os",
   "outputs": [],
   "execution_count": 2
  },
  {
   "metadata": {
    "ExecuteTime": {
     "end_time": "2025-01-21T17:23:35.985320Z",
     "start_time": "2025-01-21T17:23:35.974740Z"
    }
   },
   "cell_type": "code",
   "source": "%pwd",
   "id": "631e929a7ea110f3",
   "outputs": [
    {
     "data": {
      "text/plain": [
       "'F:\\\\Tutorial\\\\MLOPS_01_datascience_project\\\\research'"
      ]
     },
     "execution_count": 3,
     "metadata": {},
     "output_type": "execute_result"
    }
   ],
   "execution_count": 3
  },
  {
   "metadata": {
    "ExecuteTime": {
     "end_time": "2025-01-21T17:23:37.997965Z",
     "start_time": "2025-01-21T17:23:37.989765Z"
    }
   },
   "cell_type": "code",
   "source": [
    "os.chdir(\"../\")\n",
    "%pwd"
   ],
   "id": "917962679664ad38",
   "outputs": [
    {
     "data": {
      "text/plain": [
       "'F:\\\\Tutorial\\\\MLOPS_01_datascience_project'"
      ]
     },
     "execution_count": 4,
     "metadata": {},
     "output_type": "execute_result"
    }
   ],
   "execution_count": 4
  },
  {
   "metadata": {
    "ExecuteTime": {
     "end_time": "2025-01-21T20:12:52.287294Z",
     "start_time": "2025-01-21T20:12:52.280285Z"
    }
   },
   "cell_type": "code",
   "source": [
    "from dataclasses import dataclass\n",
    "from pathlib import Path\n",
    "\n",
    "@dataclass\n",
    "class DataIngestionConfig:\n",
    "    root_dir: Path\n",
    "    source_URL: str\n",
    "    local_data_file: Path\n",
    "    unzip_dir : Path"
   ],
   "id": "9c69e47f4d6fbdad",
   "outputs": [],
   "execution_count": 9
  },
  {
   "metadata": {
    "ExecuteTime": {
     "end_time": "2025-01-21T20:12:55.623542Z",
     "start_time": "2025-01-21T20:12:53.027178Z"
    }
   },
   "cell_type": "code",
   "source": [
    "from src.datascience.constants import *\n",
    "from src.datascience.utils.common import read_yaml, create_directories"
   ],
   "id": "3358e532a166c7db",
   "outputs": [],
   "execution_count": 10
  },
  {
   "metadata": {
    "ExecuteTime": {
     "end_time": "2025-01-21T20:16:00.609059Z",
     "start_time": "2025-01-21T20:16:00.602485Z"
    }
   },
   "cell_type": "code",
   "source": [
    "class ConfigurationManager:\n",
    "    def __init__(self,\n",
    "                 config_filepath = CONFIG_FILE_PATH,\n",
    "                 params_filepath = PARAMS_FILE_PATH,\n",
    "                 schema_filepath = SCHEMA_FILE_PATH):\n",
    "        self.config= read_yaml(config_filepath)\n",
    "        self.params = read_yaml(params_filepath)\n",
    "        self.schema = read_yaml(schema_filepath)\n",
    "\n",
    "        create_directories([self.config.artifacts_root])\n",
    "\n",
    "    def get_data_ingestion_config(self)-> DataIngestionConfig:\n",
    "        config = self.config.data_ingestion\n",
    "        create_directories([config.root_dir])\n",
    "\n",
    "        data_ingestion_config = DataIngestionConfig(\n",
    "            root_dir=config.root_dir,\n",
    "            source_URL=config.source_URL,\n",
    "            local_data_file=config.local_data_file,\n",
    "            unzip_dir=config.unzip_dir\n",
    "        )\n",
    "        return data_ingestion_config\n",
    "\n"
   ],
   "id": "7dfec558c5ede9d6",
   "outputs": [],
   "execution_count": 11
  },
  {
   "metadata": {
    "ExecuteTime": {
     "end_time": "2025-01-21T20:19:24.509752Z",
     "start_time": "2025-01-21T20:19:24.504743Z"
    }
   },
   "cell_type": "code",
   "source": [
    "import os\n",
    "import urllib.request as request\n",
    "from src.datascience import logger\n",
    "import zipfile"
   ],
   "id": "d08a87ac8d59170d",
   "outputs": [],
   "execution_count": 13
  },
  {
   "metadata": {
    "ExecuteTime": {
     "end_time": "2025-01-21T20:19:36.688974Z",
     "start_time": "2025-01-21T20:19:36.681691Z"
    }
   },
   "cell_type": "code",
   "source": [
    "## component-Data Ingestion\n",
    "\n",
    "class DataIngestion:\n",
    "    def __init__(self,config:DataIngestionConfig):\n",
    "        self.config=config\n",
    "\n",
    "    # Downloading the zip file\n",
    "    def download_file(self):\n",
    "        if not os.path.exists(self.config.local_data_file):\n",
    "            filename, headers = request.urlretrieve(\n",
    "                url = self.config.source_URL,\n",
    "                filename = self.config.local_data_file\n",
    "            )\n",
    "            logger.info(f\"{filename} download! with following info: \\n{headers}\")\n",
    "        else:\n",
    "            logger.info(f\"File already exists\")\n",
    "\n",
    "    def extract_zip_file(self):\n",
    "        \"\"\"\n",
    "        zip_file_path: str\n",
    "        Extracts the zip file into the data directory\n",
    "        Function returns None\n",
    "        \"\"\"\n",
    "        unzip_path = self.config.unzip_dir\n",
    "        os.makedirs(unzip_path, exist_ok=True)\n",
    "        with zipfile.ZipFile(self.config.local_data_file, 'r') as zip_ref:\n",
    "            zip_ref.extractall(unzip_path)\n"
   ],
   "id": "4a63c1acc95c120",
   "outputs": [],
   "execution_count": 14
  },
  {
   "metadata": {
    "ExecuteTime": {
     "end_time": "2025-01-21T20:23:44.777966Z",
     "start_time": "2025-01-21T20:23:43.531352Z"
    }
   },
   "cell_type": "code",
   "source": [
    "try:\n",
    "    config=ConfigurationManager()\n",
    "    data_ingestion_config=config.get_data_ingestion_config()\n",
    "    data_ingestion=DataIngestion(config=data_ingestion_config)\n",
    "    data_ingestion.download_file()\n",
    "    data_ingestion.extract_zip_file()\n",
    "except Exception as e:\n",
    "    raise e"
   ],
   "id": "7c32b6738d1a84cd",
   "outputs": [
    {
     "name": "stdout",
     "output_type": "stream",
     "text": [
      "[2025-01-22 01:53:43,536: INFO: common: yaml file: config\\config.yaml loaded successfully]\n",
      "[2025-01-22 01:53:43,540: INFO: common: yaml file: params.yaml loaded successfully]\n",
      "[2025-01-22 01:53:43,541: INFO: common: yaml file: schema.yaml loaded successfully]\n",
      "[2025-01-22 01:53:43,543: INFO: common: created directory at: artifacts]\n",
      "[2025-01-22 01:53:43,545: INFO: common: created directory at: artifacts/data_ingestion]\n",
      "[2025-01-22 01:53:44,362: INFO: 3212483910: artifacts/data_ingestion/data.zip download! with following info: \n",
      "Connection: close\n",
      "Content-Length: 23329\n",
      "Cache-Control: max-age=300\n",
      "Content-Security-Policy: default-src 'none'; style-src 'unsafe-inline'; sandbox\n",
      "Content-Type: application/zip\n",
      "ETag: \"c69888a4ae59bc5a893392785a938ccd4937981c06ba8a9d6a21aa52b4ab5b6e\"\n",
      "Strict-Transport-Security: max-age=31536000\n",
      "X-Content-Type-Options: nosniff\n",
      "X-Frame-Options: deny\n",
      "X-XSS-Protection: 1; mode=block\n",
      "X-GitHub-Request-Id: A784:2A9CC9:64D89:8A611:6790024C\n",
      "Accept-Ranges: bytes\n",
      "Date: Tue, 21 Jan 2025 20:23:44 GMT\n",
      "Via: 1.1 varnish\n",
      "X-Served-By: cache-del21738-DEL\n",
      "X-Cache: MISS\n",
      "X-Cache-Hits: 0\n",
      "X-Timer: S1737491024.074992,VS0,VE293\n",
      "Vary: Authorization,Accept-Encoding,Origin\n",
      "Access-Control-Allow-Origin: *\n",
      "Cross-Origin-Resource-Policy: cross-origin\n",
      "X-Fastly-Request-ID: 49e99ae8611ecef7fd59f8150abcc4bec567bab0\n",
      "Expires: Tue, 21 Jan 2025 20:28:44 GMT\n",
      "Source-Age: 0\n",
      "\n",
      "]\n"
     ]
    }
   ],
   "execution_count": 17
  },
  {
   "metadata": {},
   "cell_type": "code",
   "outputs": [],
   "execution_count": null,
   "source": "",
   "id": "2bcb7f015ad2daac"
  }
 ],
 "metadata": {
  "kernelspec": {
   "display_name": "Python 3",
   "language": "python",
   "name": "python3"
  },
  "language_info": {
   "codemirror_mode": {
    "name": "ipython",
    "version": 2
   },
   "file_extension": ".py",
   "mimetype": "text/x-python",
   "name": "python",
   "nbconvert_exporter": "python",
   "pygments_lexer": "ipython2",
   "version": "2.7.6"
  }
 },
 "nbformat": 4,
 "nbformat_minor": 5
}
